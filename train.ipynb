{
 "cells": [
  {
   "cell_type": "code",
   "execution_count": 11,
   "id": "4fd43e85-b567-4a50-8d0c-e901e9aff4c8",
   "metadata": {},
   "outputs": [
    {
     "name": "stdout",
     "output_type": "stream",
     "text": [
      "Working directory before chdir: /n/fs/scratch/dshustin/golden-retriever\n",
      "New working directory: /n/fs/scratch/dshustin/golden-retriever/SimCLR\n"
     ]
    }
   ],
   "source": [
    "import os\n",
    "print(f\"Working directory before chdir: {os.getcwd()}\") # Make sure this is the correct working directory\n",
    "os.chdir('SimCLR') # Assumes you are in the golden-retriever folder\n",
    "print(f\"New working directory: {os.getcwd()}\")"
   ]
  },
  {
   "cell_type": "code",
   "execution_count": 21,
   "id": "eb1702da-8543-45fc-b0b1-42c1811bce47",
   "metadata": {},
   "outputs": [],
   "source": [
    "feature = 'shap_e' # Options: {'shap_e', 'effnet'}"
   ]
  },
  {
   "cell_type": "code",
   "execution_count": null,
   "id": "50adb8d7-609a-40d3-8af6-90595be41dba",
   "metadata": {},
   "outputs": [
    {
     "name": "stdout",
     "output_type": "stream",
     "text": [
      "[15/05/2023 03:11:30] Starting training!\n",
      "Loading data from /n/fs/scratch/dshustin/srn_cars_val_retrieval_large.pickle\n",
      "Loading embeds from /n/fs/scratch/dshustin/srn_cars_val_shap_e_large_index.pickle\n",
      "embed_dim: 1048576\n",
      "  0%|                                                     | 0/4 [00:00<?, ?it/s]/n/fs/pci-sharedt/dshustin/miniconda3/lib/python3.10/site-packages/torch/optim/lr_scheduler.py:814: UserWarning: To get the last learning rate computed by the scheduler, please use `get_last_lr()`.\n",
      "  warnings.warn(\"To get the last learning rate computed by the scheduler, \"\n",
      "100%|█████████████████████████████████████████████| 4/4 [00:04<00:00,  1.02s/it]\n",
      "100%|█████████████████████████████████████████████| 4/4 [00:01<00:00,  2.29it/s]\n",
      "100%|█████████████████████████████████████████████| 4/4 [00:02<00:00,  1.97it/s]\n",
      "100%|█████████████████████████████████████████████| 4/4 [00:01<00:00,  2.29it/s]\n",
      "  0%|                                                     | 0/4 [00:00<?, ?it/s]"
     ]
    }
   ],
   "source": [
    "# We can now run (REPLACE LAST TWO LINES WITH YOUR PATH!)\n",
    "!python run_embeds.py --feature {feature} --hidden-num 5\\\n",
    "--hidden-dim 500 --out_dim 128 --proj-dim 250 --db-k 20\\\n",
    "--data-path /n/fs/scratch/dshustin/srn_cars_val_retrieval_large.pickle\\\n",
    "--embeds-path /n/fs/scratch/dshustin/srn_cars_val_{feature}_large_index.pickle\n",
    "\n",
    "\n",
    "# Explanation:\n",
    "\n",
    "#!python run_embeds.py\n",
    "#--feature {feature}      Feature space to train on, in {effnet, shap_e}\n",
    "#--hidden-num 5           Number of hidden layers in encoder\n",
    "#--hidden-dim 500         Width of hidden layers in encoder\n",
    "#--out_dim 128            Output dimension of encoder\n",
    "#--proj-dim 250           Output dimension of projection head\n",
    "#--db-k 20                Number of views per scene to train on (max for our dataset: 20)\n",
    "#--data-path              Path to data split pickle (i.e. List of ShapeNet IDs, etc.)\n",
    "#--embeds-path            Path to embedding vector index pickle (i.e. Dict ShapeNetID -> List of paths to saved embedding)\n",
    "\n",
    "# Now, you can view your progress in SimCLR/runs/.../training.log\n",
    "# Checkpoint will be saved in SimCLR/runs/.../...chkpt...pth.tar"
   ]
  },
  {
   "cell_type": "code",
   "execution_count": null,
   "id": "7fbe734d-eb44-404d-88b5-182e47e52218",
   "metadata": {},
   "outputs": [],
   "source": []
  }
 ],
 "metadata": {
  "kernelspec": {
   "display_name": "Python 3 (ipykernel)",
   "language": "python",
   "name": "python3"
  },
  "language_info": {
   "codemirror_mode": {
    "name": "ipython",
    "version": 3
   },
   "file_extension": ".py",
   "mimetype": "text/x-python",
   "name": "python",
   "nbconvert_exporter": "python",
   "pygments_lexer": "ipython3",
   "version": "3.10.9"
  }
 },
 "nbformat": 4,
 "nbformat_minor": 5
}
